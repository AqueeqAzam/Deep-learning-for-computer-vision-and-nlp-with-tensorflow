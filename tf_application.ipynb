{
  "nbformat": 4,
  "nbformat_minor": 0,
  "metadata": {
    "colab": {
      "provenance": [],
      "authorship_tag": "ABX9TyMIqNe/7PKEHUpu11PHxrCF",
      "include_colab_link": true
    },
    "kernelspec": {
      "name": "python3",
      "display_name": "Python 3"
    },
    "language_info": {
      "name": "python"
    }
  },
  "cells": [
    {
      "cell_type": "markdown",
      "metadata": {
        "id": "view-in-github",
        "colab_type": "text"
      },
      "source": [
        "<a href=\"https://colab.research.google.com/github/AqueeqAzam/tensorflow-for-deep-learning-and-computer-vision/blob/main/tf_application.ipynb\" target=\"_parent\"><img src=\"https://colab.research.google.com/assets/colab-badge.svg\" alt=\"Open In Colab\"/></a>"
      ]
    },
    {
      "cell_type": "markdown",
      "source": [
        "# `Neural Net`"
      ],
      "metadata": {
        "id": "9NEkLVMfs4R7"
      }
    },
    {
      "cell_type": "markdown",
      "source": [
        "`import required library`"
      ],
      "metadata": {
        "id": "R3En1TzG4yw8"
      }
    },
    {
      "cell_type": "code",
      "source": [
        "import tensorflow as tf\n",
        "from tensorflow import keras\n",
        "import numpy as np\n",
        "import matplotlib.pyplot as plt"
      ],
      "metadata": {
        "id": "uD0eoAQF42vg"
      },
      "execution_count": null,
      "outputs": []
    },
    {
      "cell_type": "markdown",
      "source": [
        "`load dataset`"
      ],
      "metadata": {
        "id": "YPBLkQwt4-x3"
      }
    },
    {
      "source": [
        "minst = keras.datasets.mnist\n",
        "(x_train, y_train), (x_test, y_test) = minst.load_data() # Use 'minst' instead of 'mnist'\n",
        "print(x_train.shape, y_train.shape)\n",
        "#print(x_test.shape, y_test.shape)\n",
        "\n",
        "# normalize: 0, 255 -> 0.1\n",
        "x_train = x_train / 255.0\n",
        "x_test = x_test / 255.\n",
        "\n",
        "x_train, x_test\n",
        "\n",
        "\n"
      ],
      "cell_type": "code",
      "metadata": {
        "id": "eqwgt0o1yLJE"
      },
      "execution_count": null,
      "outputs": []
    },
    {
      "cell_type": "markdown",
      "source": [
        "`Display images and see model summary`"
      ],
      "metadata": {
        "id": "cpm5wezR4Y1v"
      }
    },
    {
      "cell_type": "code",
      "source": [
        "for i in range(7):\n",
        "    plt.subplot(1, 7, i+1)\n",
        "    plt.imshow(x_train[i], cmap='gray')\n",
        "    plt.show()\n",
        "\n",
        "model = keras.Sequential()\n",
        "model.add(keras.layers.Flatten(input_shape=(28, 28)))\n",
        "model.add(keras.layers.Dense(128, activation='relu'))\n",
        "model.add(keras.layers.Dense(10, activation='softmax'))\n",
        "\n",
        "print(model.summary())"
      ],
      "metadata": {
        "id": "LLZaMc084SwU"
      },
      "execution_count": null,
      "outputs": []
    },
    {
      "cell_type": "markdown",
      "source": [
        "`loss, optimizer and trainig the model`"
      ],
      "metadata": {
        "id": "eiNeVeAe4h9q"
      }
    },
    {
      "cell_type": "code",
      "source": [
        "# loss and optimizer\n",
        "model.compile(optimizer='adam',\n",
        "              loss='sparse_categorical_crossentropy',\n",
        "              metrics=['accuracy'])\n",
        "\n",
        "# training\n",
        "model.fit(x_train, y_train, batch_size=64, epochs=5, shuffle=True, verbose=2)"
      ],
      "metadata": {
        "colab": {
          "base_uri": "https://localhost:8080/"
        },
        "id": "j6xZLZJa0Ycn",
        "outputId": "a1d3142f-2480-4209-ff94-28fdd0e8632a"
      },
      "execution_count": 19,
      "outputs": [
        {
          "output_type": "stream",
          "name": "stdout",
          "text": [
            "Epoch 1/5\n",
            "938/938 - 3s - loss: 0.0463 - accuracy: 0.9859 - 3s/epoch - 4ms/step\n",
            "Epoch 2/5\n",
            "938/938 - 4s - loss: 0.0364 - accuracy: 0.9894 - 4s/epoch - 4ms/step\n",
            "Epoch 3/5\n",
            "938/938 - 3s - loss: 0.0285 - accuracy: 0.9918 - 3s/epoch - 3ms/step\n",
            "Epoch 4/5\n",
            "938/938 - 4s - loss: 0.0238 - accuracy: 0.9931 - 4s/epoch - 4ms/step\n",
            "Epoch 5/5\n",
            "938/938 - 3s - loss: 0.0186 - accuracy: 0.9951 - 3s/epoch - 3ms/step\n"
          ]
        },
        {
          "output_type": "execute_result",
          "data": {
            "text/plain": [
              "<keras.src.callbacks.History at 0x7fbd3d92e9e0>"
            ]
          },
          "metadata": {},
          "execution_count": 19
        }
      ]
    },
    {
      "cell_type": "markdown",
      "source": [
        "`Evaluate the model`"
      ],
      "metadata": {
        "id": "c2usgcCQ4o6k"
      }
    },
    {
      "cell_type": "code",
      "source": [
        "# evaluate\n",
        "model.evaluate(x_test, y_test, batch_size=64, verbose=2)\n"
      ],
      "metadata": {
        "colab": {
          "base_uri": "https://localhost:8080/"
        },
        "id": "-AxzlihM30RF",
        "outputId": "9345f336-9597-4ccc-9e0e-d41b70dc0069"
      },
      "execution_count": 20,
      "outputs": [
        {
          "output_type": "stream",
          "name": "stdout",
          "text": [
            "157/157 - 0s - loss: 0.0742 - accuracy: 0.9775 - 380ms/epoch - 2ms/step\n"
          ]
        },
        {
          "output_type": "execute_result",
          "data": {
            "text/plain": [
              "[0.07418423891067505, 0.9775000214576721]"
            ]
          },
          "metadata": {},
          "execution_count": 20
        }
      ]
    },
    {
      "cell_type": "markdown",
      "source": [
        "`Make prediction`"
      ],
      "metadata": {
        "id": "wvLfDiIC4tQB"
      }
    },
    {
      "cell_type": "code",
      "source": [
        "# prediction\n",
        "predict = model(x_test)\n",
        "prediction = tf.nn.softmax(predict)\n",
        "print(prediction[0])\n",
        "\n",
        "label = np.argmax(prediction[0])\n",
        "print(label)"
      ],
      "metadata": {
        "colab": {
          "base_uri": "https://localhost:8080/"
        },
        "id": "DPn78-Do38wD",
        "outputId": "321ec508-e9cc-46b7-9ee4-899c25fb9381"
      },
      "execution_count": 22,
      "outputs": [
        {
          "output_type": "stream",
          "name": "stdout",
          "text": [
            "tf.Tensor(\n",
            "[0.08533719 0.08533719 0.08533721 0.08534026 0.08533719 0.08533719\n",
            " 0.08533719 0.2319621  0.0853372  0.08533721], shape=(10,), dtype=float32)\n",
            "7\n"
          ]
        }
      ]
    }
  ]
}